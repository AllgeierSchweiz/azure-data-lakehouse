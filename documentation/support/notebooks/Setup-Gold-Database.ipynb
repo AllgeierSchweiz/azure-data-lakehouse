{
  "cells": [
    {
      "cell_type": "code",
      "source": [
        "%%sql\r\n",
        "\r\n",
        "CREATE DATABASE IF NOT EXISTS gold;\r\n"
      ],
      "outputs": [
        {
          "output_type": "display_data",
          "data": {
            "application/vnd.livy.statement-meta+json": {
              "spark_pool": "synasp1",
              "session_id": "0",
              "statement_id": 1,
              "state": "finished",
              "livy_statement_state": "available",
              "queued_time": "2023-06-14T18:58:11.195366Z",
              "session_start_time": "2023-06-14T18:58:11.2422636Z",
              "execution_start_time": "2023-06-14T19:00:08.5132502Z",
              "execution_finish_time": "2023-06-14T19:00:23.5708461Z",
              "spark_jobs": null,
              "parent_msg_id": "938d06d4-f19d-49ed-8a89-ce6c447087c2"
            },
            "text/plain": "StatementMeta(synasp1, 0, 1, Finished, Available)"
          },
          "metadata": {}
        },
        {
          "output_type": "execute_result",
          "execution_count": 1,
          "data": {
            "application/vnd.synapse.sparksql-result+json": {
              "schema": {
                "type": "struct",
                "fields": []
              },
              "data": []
            },
            "text/plain": "<Spark SQL result set with 0 rows and 0 fields>"
          },
          "metadata": {}
        }
      ],
      "execution_count": 1,
      "metadata": {
        "microsoft": {
          "language": "sparksql"
        },
        "collapsed": false
      }
    },
    {
      "cell_type": "code",
      "source": [
        "%%sql\r\n",
        "\r\n",
        "-- Change ABFSS URI to your own URI, find the name of your storage account and container located within your own storage account.\r\n",
        "\r\n",
        "CREATE TABLE IF NOT EXISTS gold.productsales\r\n",
        "USING DELTA\r\n",
        "LOCATION 'abfss://dlssdcpocfs1@dlssdcpoc.dfs.core.windows.net/gold-container/ProductSales/';\r\n"
      ],
      "outputs": [
        {
          "output_type": "display_data",
          "data": {
            "application/vnd.livy.statement-meta+json": {
              "spark_pool": "synasp1",
              "session_id": "0",
              "statement_id": 2,
              "state": "finished",
              "livy_statement_state": "available",
              "queued_time": "2023-06-14T19:01:31.376182Z",
              "session_start_time": null,
              "execution_start_time": "2023-06-14T19:01:31.5716375Z",
              "execution_finish_time": "2023-06-14T19:01:50.7877762Z",
              "spark_jobs": null,
              "parent_msg_id": "a1982032-5b91-4724-b5d4-3095821734f9"
            },
            "text/plain": "StatementMeta(synasp1, 0, 2, Finished, Available)"
          },
          "metadata": {}
        },
        {
          "output_type": "execute_result",
          "execution_count": 2,
          "data": {
            "application/vnd.synapse.sparksql-result+json": {
              "schema": {
                "type": "struct",
                "fields": []
              },
              "data": []
            },
            "text/plain": "<Spark SQL result set with 0 rows and 0 fields>"
          },
          "metadata": {}
        }
      ],
      "execution_count": 2,
      "metadata": {
        "jupyter": {
          "source_hidden": false,
          "outputs_hidden": false
        },
        "nteract": {
          "transient": {
            "deleting": false
          }
        },
        "microsoft": {
          "language": "sparksql"
        },
        "collapsed": false
      }
    },
    {
      "cell_type": "code",
      "source": [
        "%%sql\r\n",
        "\r\n",
        "-- Change ABFSS URI to your own URI, find the name of your storage account and container located within your own storage account.\r\n",
        "\r\n",
        "DESCRIBE HISTORY 'abfss://dlssdcpocfs1@dlssdcpoc.dfs.core.windows.net/gold-container/ProductSales/';\r\n"
      ],
      "outputs": [
        {
          "output_type": "display_data",
          "data": {
            "application/vnd.livy.statement-meta+json": {
              "spark_pool": "synasp1",
              "session_id": "1",
              "statement_id": 6,
              "state": "finished",
              "livy_statement_state": "available",
              "queued_time": "2023-06-14T19:07:00.4052015Z",
              "session_start_time": null,
              "execution_start_time": "2023-06-14T19:07:00.5891335Z",
              "execution_finish_time": "2023-06-14T19:07:01.7348327Z",
              "spark_jobs": null,
              "parent_msg_id": "afd592e4-70a3-498f-95db-72f6fa75bf6c"
            },
            "text/plain": "StatementMeta(synasp1, 1, 6, Finished, Available)"
          },
          "metadata": {}
        },
        {
          "output_type": "execute_result",
          "execution_count": 6,
          "data": {
            "application/vnd.synapse.sparksql-result+json": {
              "schema": {
                "type": "struct",
                "fields": [
                  {
                    "name": "version",
                    "type": "long",
                    "nullable": true,
                    "metadata": {}
                  },
                  {
                    "name": "timestamp",
                    "type": "timestamp",
                    "nullable": true,
                    "metadata": {}
                  },
                  {
                    "name": "userId",
                    "type": "string",
                    "nullable": true,
                    "metadata": {}
                  },
                  {
                    "name": "userName",
                    "type": "string",
                    "nullable": true,
                    "metadata": {}
                  },
                  {
                    "name": "operation",
                    "type": "string",
                    "nullable": true,
                    "metadata": {}
                  },
                  {
                    "name": "operationParameters",
                    "type": {
                      "type": "map",
                      "keyType": "string",
                      "valueType": "string",
                      "valueContainsNull": true
                    },
                    "nullable": true,
                    "metadata": {}
                  },
                  {
                    "name": "job",
                    "type": {
                      "type": "struct",
                      "fields": [
                        {
                          "name": "jobId",
                          "type": "string",
                          "nullable": true,
                          "metadata": {}
                        },
                        {
                          "name": "jobName",
                          "type": "string",
                          "nullable": true,
                          "metadata": {}
                        },
                        {
                          "name": "runId",
                          "type": "string",
                          "nullable": true,
                          "metadata": {}
                        },
                        {
                          "name": "jobOwnerId",
                          "type": "string",
                          "nullable": true,
                          "metadata": {}
                        },
                        {
                          "name": "triggerType",
                          "type": "string",
                          "nullable": true,
                          "metadata": {}
                        }
                      ]
                    },
                    "nullable": true,
                    "metadata": {}
                  },
                  {
                    "name": "notebook",
                    "type": {
                      "type": "struct",
                      "fields": [
                        {
                          "name": "notebookId",
                          "type": "string",
                          "nullable": true,
                          "metadata": {}
                        }
                      ]
                    },
                    "nullable": true,
                    "metadata": {}
                  },
                  {
                    "name": "clusterId",
                    "type": "string",
                    "nullable": true,
                    "metadata": {}
                  },
                  {
                    "name": "readVersion",
                    "type": "long",
                    "nullable": true,
                    "metadata": {}
                  },
                  {
                    "name": "isolationLevel",
                    "type": "string",
                    "nullable": true,
                    "metadata": {}
                  },
                  {
                    "name": "isBlindAppend",
                    "type": "boolean",
                    "nullable": true,
                    "metadata": {}
                  },
                  {
                    "name": "operationMetrics",
                    "type": {
                      "type": "map",
                      "keyType": "string",
                      "valueType": "string",
                      "valueContainsNull": true
                    },
                    "nullable": true,
                    "metadata": {}
                  },
                  {
                    "name": "userMetadata",
                    "type": "string",
                    "nullable": true,
                    "metadata": {}
                  },
                  {
                    "name": "engineInfo",
                    "type": "string",
                    "nullable": true,
                    "metadata": {}
                  }
                ]
              },
              "data": [
                [
                  "3",
                  "2023-06-14T19:06:38Z",
                  null,
                  null,
                  "RESTORE",
                  {
                    "version": "0",
                    "timestamp": null
                  },
                  null,
                  null,
                  null,
                  "2",
                  "Serializable",
                  false,
                  {
                    "numRestoredFiles": "7",
                    "removedFilesSize": "127452",
                    "numRemovedFiles": "1",
                    "restoredFilesSize": "191398",
                    "numOfFilesAfterRestore": "7",
                    "tableSizeAfterRestore": "191398"
                  },
                  null,
                  "Apache-Spark/3.3.1.5.2-92314920 Delta-Lake/2.2.0.4"
                ],
                [
                  "2",
                  "2023-06-14T19:05:53Z",
                  null,
                  null,
                  "OPTIMIZE",
                  {
                    "predicate": "[]",
                    "auto": "false",
                    "zOrderBy": "[\"OrderDate\"]"
                  },
                  null,
                  null,
                  null,
                  "1",
                  "SnapshotIsolation",
                  false,
                  {
                    "numRemovedFiles": "200",
                    "numRemovedBytes": "974326",
                    "p25FileSize": "127452",
                    "minFileSize": "127452",
                    "numAddedFiles": "1",
                    "maxFileSize": "127452",
                    "p75FileSize": "127452",
                    "p50FileSize": "127452",
                    "numAddedBytes": "127452"
                  },
                  null,
                  "Apache-Spark/3.3.1.5.2-92314920 Delta-Lake/2.2.0.4"
                ],
                [
                  "1",
                  "2023-06-14T18:44:41Z",
                  null,
                  null,
                  "MERGE",
                  {
                    "predicate": "((source.`ProductKey` = target.`ProductKey`) AND (source.`OrderDate` = target.`OrderDate`))",
                    "updatePredicate": "((NOT ((source.`r8f6ad13241c94196ababfc99f8957025` & 2) = 0)) OR (NOT ((source.`r8f6ad13241c94196ababfc99f8957025` & 8) = 0)))",
                    "deletePredicate": "(NOT ((source.`r8f6ad13241c94196ababfc99f8957025` & 4) = 0))",
                    "insertPredicate": "((NOT ((source.`r8f6ad13241c94196ababfc99f8957025` & 1) = 0)) OR (NOT ((source.`r8f6ad13241c94196ababfc99f8957025` & 8) = 0)))"
                  },
                  null,
                  null,
                  null,
                  "0",
                  null,
                  false,
                  {
                    "numTargetRowsCopied": "0",
                    "numTargetRowsDeleted": "0",
                    "numTargetFilesAdded": "200",
                    "numTargetRowsInserted": "6",
                    "numTargetRowsUpdated": "21645",
                    "numOutputRows": "21651",
                    "numSourceRows": "21651",
                    "numTargetFilesRemoved": "7"
                  },
                  null,
                  null
                ],
                [
                  "0",
                  "2023-06-14T18:06:29Z",
                  null,
                  null,
                  "WRITE",
                  {
                    "mode": "Append",
                    "partitionBy": "[]"
                  },
                  null,
                  null,
                  null,
                  null,
                  null,
                  true,
                  {
                    "numFiles": "7",
                    "numOutputBytes": "191398",
                    "numOutputRows": "21645"
                  },
                  null,
                  null
                ]
              ]
            },
            "text/plain": "<Spark SQL result set with 4 rows and 15 fields>"
          },
          "metadata": {}
        }
      ],
      "execution_count": 6,
      "metadata": {
        "jupyter": {
          "source_hidden": false,
          "outputs_hidden": false
        },
        "nteract": {
          "transient": {
            "deleting": false
          }
        },
        "microsoft": {
          "language": "sparksql"
        },
        "collapsed": false
      }
    },
    {
      "cell_type": "code",
      "source": [
        "%%sql\r\n",
        "\r\n",
        "OPTIMIZE gold.productsales ZORDER BY (OrderDate);\r\n"
      ],
      "outputs": [
        {
          "output_type": "display_data",
          "data": {
            "application/vnd.livy.statement-meta+json": {
              "spark_pool": "synasp1",
              "session_id": "1",
              "statement_id": 2,
              "state": "finished",
              "livy_statement_state": "available",
              "queued_time": "2023-06-14T19:05:38.2077825Z",
              "session_start_time": null,
              "execution_start_time": "2023-06-14T19:05:38.3901444Z",
              "execution_finish_time": "2023-06-14T19:05:55.3919546Z",
              "spark_jobs": null,
              "parent_msg_id": "02b41ae5-62c9-407c-8c8a-d1b1858f2a4a"
            },
            "text/plain": "StatementMeta(synasp1, 1, 2, Finished, Available)"
          },
          "metadata": {}
        },
        {
          "output_type": "execute_result",
          "execution_count": 2,
          "data": {
            "application/vnd.synapse.sparksql-result+json": {
              "schema": {
                "type": "struct",
                "fields": [
                  {
                    "name": "path",
                    "type": "string",
                    "nullable": true,
                    "metadata": {}
                  },
                  {
                    "name": "metrics",
                    "type": {
                      "type": "struct",
                      "fields": [
                        {
                          "name": "numFilesAdded",
                          "type": "long",
                          "nullable": false,
                          "metadata": {}
                        },
                        {
                          "name": "numFilesRemoved",
                          "type": "long",
                          "nullable": false,
                          "metadata": {}
                        },
                        {
                          "name": "filesAdded",
                          "type": {
                            "type": "struct",
                            "fields": [
                              {
                                "name": "min",
                                "type": "long",
                                "nullable": true,
                                "metadata": {}
                              },
                              {
                                "name": "max",
                                "type": "long",
                                "nullable": true,
                                "metadata": {}
                              },
                              {
                                "name": "avg",
                                "type": "double",
                                "nullable": false,
                                "metadata": {}
                              },
                              {
                                "name": "totalFiles",
                                "type": "long",
                                "nullable": false,
                                "metadata": {}
                              },
                              {
                                "name": "totalSize",
                                "type": "long",
                                "nullable": false,
                                "metadata": {}
                              }
                            ]
                          },
                          "nullable": true,
                          "metadata": {}
                        },
                        {
                          "name": "filesRemoved",
                          "type": {
                            "type": "struct",
                            "fields": [
                              {
                                "name": "min",
                                "type": "long",
                                "nullable": true,
                                "metadata": {}
                              },
                              {
                                "name": "max",
                                "type": "long",
                                "nullable": true,
                                "metadata": {}
                              },
                              {
                                "name": "avg",
                                "type": "double",
                                "nullable": false,
                                "metadata": {}
                              },
                              {
                                "name": "totalFiles",
                                "type": "long",
                                "nullable": false,
                                "metadata": {}
                              },
                              {
                                "name": "totalSize",
                                "type": "long",
                                "nullable": false,
                                "metadata": {}
                              }
                            ]
                          },
                          "nullable": true,
                          "metadata": {}
                        },
                        {
                          "name": "partitionsOptimized",
                          "type": "long",
                          "nullable": false,
                          "metadata": {}
                        },
                        {
                          "name": "zOrderStats",
                          "type": {
                            "type": "struct",
                            "fields": [
                              {
                                "name": "strategyName",
                                "type": "string",
                                "nullable": true,
                                "metadata": {}
                              },
                              {
                                "name": "inputCubeFiles",
                                "type": {
                                  "type": "struct",
                                  "fields": [
                                    {
                                      "name": "num",
                                      "type": "long",
                                      "nullable": false,
                                      "metadata": {}
                                    },
                                    {
                                      "name": "size",
                                      "type": "long",
                                      "nullable": false,
                                      "metadata": {}
                                    }
                                  ]
                                },
                                "nullable": true,
                                "metadata": {}
                              },
                              {
                                "name": "inputOtherFiles",
                                "type": {
                                  "type": "struct",
                                  "fields": [
                                    {
                                      "name": "num",
                                      "type": "long",
                                      "nullable": false,
                                      "metadata": {}
                                    },
                                    {
                                      "name": "size",
                                      "type": "long",
                                      "nullable": false,
                                      "metadata": {}
                                    }
                                  ]
                                },
                                "nullable": true,
                                "metadata": {}
                              },
                              {
                                "name": "inputNumCubes",
                                "type": "long",
                                "nullable": false,
                                "metadata": {}
                              },
                              {
                                "name": "mergedFiles",
                                "type": {
                                  "type": "struct",
                                  "fields": [
                                    {
                                      "name": "num",
                                      "type": "long",
                                      "nullable": false,
                                      "metadata": {}
                                    },
                                    {
                                      "name": "size",
                                      "type": "long",
                                      "nullable": false,
                                      "metadata": {}
                                    }
                                  ]
                                },
                                "nullable": true,
                                "metadata": {}
                              },
                              {
                                "name": "numOutputCubes",
                                "type": "long",
                                "nullable": false,
                                "metadata": {}
                              },
                              {
                                "name": "mergedNumCubes",
                                "type": "long",
                                "nullable": true,
                                "metadata": {}
                              }
                            ]
                          },
                          "nullable": true,
                          "metadata": {}
                        },
                        {
                          "name": "numBatches",
                          "type": "long",
                          "nullable": false,
                          "metadata": {}
                        },
                        {
                          "name": "totalConsideredFiles",
                          "type": "long",
                          "nullable": false,
                          "metadata": {}
                        },
                        {
                          "name": "totalFilesSkipped",
                          "type": "long",
                          "nullable": false,
                          "metadata": {}
                        },
                        {
                          "name": "preserveInsertionOrder",
                          "type": "boolean",
                          "nullable": false,
                          "metadata": {}
                        },
                        {
                          "name": "numFilesSkippedToReduceWriteAmplification",
                          "type": "long",
                          "nullable": false,
                          "metadata": {}
                        },
                        {
                          "name": "numBytesSkippedToReduceWriteAmplification",
                          "type": "long",
                          "nullable": false,
                          "metadata": {}
                        },
                        {
                          "name": "startTimeMs",
                          "type": "long",
                          "nullable": false,
                          "metadata": {}
                        },
                        {
                          "name": "endTimeMs",
                          "type": "long",
                          "nullable": false,
                          "metadata": {}
                        },
                        {
                          "name": "totalClusterParallelism",
                          "type": "long",
                          "nullable": false,
                          "metadata": {}
                        },
                        {
                          "name": "totalScheduledTasks",
                          "type": "long",
                          "nullable": false,
                          "metadata": {}
                        },
                        {
                          "name": "autoCompactParallelismStats",
                          "type": {
                            "type": "struct",
                            "fields": [
                              {
                                "name": "maxClusterActiveParallelism",
                                "type": "long",
                                "nullable": true,
                                "metadata": {}
                              },
                              {
                                "name": "minClusterActiveParallelism",
                                "type": "long",
                                "nullable": true,
                                "metadata": {}
                              },
                              {
                                "name": "maxSessionActiveParallelism",
                                "type": "long",
                                "nullable": true,
                                "metadata": {}
                              },
                              {
                                "name": "minSessionActiveParallelism",
                                "type": "long",
                                "nullable": true,
                                "metadata": {}
                              }
                            ]
                          },
                          "nullable": true,
                          "metadata": {}
                        }
                      ]
                    },
                    "nullable": true,
                    "metadata": {}
                  }
                ]
              },
              "data": [
                [
                  "abfss://dlssdcpocfs1@dlssdcpoc.dfs.core.windows.net/gold-container/ProductSales",
                  {
                    "schema": [
                      {
                        "name": "numFilesAdded",
                        "dataType": {},
                        "nullable": false,
                        "metadata": {
                          "map": {}
                        }
                      },
                      {
                        "name": "numFilesRemoved",
                        "dataType": {},
                        "nullable": false,
                        "metadata": {
                          "map": {}
                        }
                      },
                      {
                        "name": "filesAdded",
                        "dataType": [
                          {
                            "name": "min",
                            "dataType": {},
                            "nullable": true,
                            "metadata": {
                              "map": {}
                            }
                          },
                          {
                            "name": "max",
                            "dataType": {},
                            "nullable": true,
                            "metadata": {
                              "map": {}
                            }
                          },
                          {
                            "name": "avg",
                            "dataType": {},
                            "nullable": false,
                            "metadata": {
                              "map": {}
                            }
                          },
                          {
                            "name": "totalFiles",
                            "dataType": {},
                            "nullable": false,
                            "metadata": {
                              "map": {}
                            }
                          },
                          {
                            "name": "totalSize",
                            "dataType": {},
                            "nullable": false,
                            "metadata": {
                              "map": {}
                            }
                          }
                        ],
                        "nullable": true,
                        "metadata": {
                          "map": {}
                        }
                      },
                      {
                        "name": "filesRemoved",
                        "dataType": [
                          {
                            "name": "min",
                            "dataType": {},
                            "nullable": true,
                            "metadata": {
                              "map": {}
                            }
                          },
                          {
                            "name": "max",
                            "dataType": {},
                            "nullable": true,
                            "metadata": {
                              "map": {}
                            }
                          },
                          {
                            "name": "avg",
                            "dataType": {},
                            "nullable": false,
                            "metadata": {
                              "map": {}
                            }
                          },
                          {
                            "name": "totalFiles",
                            "dataType": {},
                            "nullable": false,
                            "metadata": {
                              "map": {}
                            }
                          },
                          {
                            "name": "totalSize",
                            "dataType": {},
                            "nullable": false,
                            "metadata": {
                              "map": {}
                            }
                          }
                        ],
                        "nullable": true,
                        "metadata": {
                          "map": {}
                        }
                      },
                      {
                        "name": "partitionsOptimized",
                        "dataType": {},
                        "nullable": false,
                        "metadata": {
                          "map": {}
                        }
                      },
                      {
                        "name": "zOrderStats",
                        "dataType": [
                          {
                            "name": "strategyName",
                            "dataType": {},
                            "nullable": true,
                            "metadata": {
                              "map": {}
                            }
                          },
                          {
                            "name": "inputCubeFiles",
                            "dataType": [
                              {
                                "name": "num",
                                "dataType": {},
                                "nullable": false,
                                "metadata": {
                                  "map": {}
                                }
                              },
                              {
                                "name": "size",
                                "dataType": {},
                                "nullable": false,
                                "metadata": {
                                  "map": {}
                                }
                              }
                            ],
                            "nullable": true,
                            "metadata": {
                              "map": {}
                            }
                          },
                          {
                            "name": "inputOtherFiles",
                            "dataType": [
                              {
                                "name": "num",
                                "dataType": {},
                                "nullable": false,
                                "metadata": {
                                  "map": {}
                                }
                              },
                              {
                                "name": "size",
                                "dataType": {},
                                "nullable": false,
                                "metadata": {
                                  "map": {}
                                }
                              }
                            ],
                            "nullable": true,
                            "metadata": {
                              "map": {}
                            }
                          },
                          {
                            "name": "inputNumCubes",
                            "dataType": {},
                            "nullable": false,
                            "metadata": {
                              "map": {}
                            }
                          },
                          {
                            "name": "mergedFiles",
                            "dataType": [
                              {
                                "name": "num",
                                "dataType": {},
                                "nullable": false,
                                "metadata": {
                                  "map": {}
                                }
                              },
                              {
                                "name": "size",
                                "dataType": {},
                                "nullable": false,
                                "metadata": {
                                  "map": {}
                                }
                              }
                            ],
                            "nullable": true,
                            "metadata": {
                              "map": {}
                            }
                          },
                          {
                            "name": "numOutputCubes",
                            "dataType": {},
                            "nullable": false,
                            "metadata": {
                              "map": {}
                            }
                          },
                          {
                            "name": "mergedNumCubes",
                            "dataType": {},
                            "nullable": true,
                            "metadata": {
                              "map": {}
                            }
                          }
                        ],
                        "nullable": true,
                        "metadata": {
                          "map": {}
                        }
                      },
                      {
                        "name": "numBatches",
                        "dataType": {},
                        "nullable": false,
                        "metadata": {
                          "map": {}
                        }
                      },
                      {
                        "name": "totalConsideredFiles",
                        "dataType": {},
                        "nullable": false,
                        "metadata": {
                          "map": {}
                        }
                      },
                      {
                        "name": "totalFilesSkipped",
                        "dataType": {},
                        "nullable": false,
                        "metadata": {
                          "map": {}
                        }
                      },
                      {
                        "name": "preserveInsertionOrder",
                        "dataType": {},
                        "nullable": false,
                        "metadata": {
                          "map": {}
                        }
                      },
                      {
                        "name": "numFilesSkippedToReduceWriteAmplification",
                        "dataType": {},
                        "nullable": false,
                        "metadata": {
                          "map": {}
                        }
                      },
                      {
                        "name": "numBytesSkippedToReduceWriteAmplification",
                        "dataType": {},
                        "nullable": false,
                        "metadata": {
                          "map": {}
                        }
                      },
                      {
                        "name": "startTimeMs",
                        "dataType": {},
                        "nullable": false,
                        "metadata": {
                          "map": {}
                        }
                      },
                      {
                        "name": "endTimeMs",
                        "dataType": {},
                        "nullable": false,
                        "metadata": {
                          "map": {}
                        }
                      },
                      {
                        "name": "totalClusterParallelism",
                        "dataType": {},
                        "nullable": false,
                        "metadata": {
                          "map": {}
                        }
                      },
                      {
                        "name": "totalScheduledTasks",
                        "dataType": {},
                        "nullable": false,
                        "metadata": {
                          "map": {}
                        }
                      },
                      {
                        "name": "autoCompactParallelismStats",
                        "dataType": [
                          {
                            "name": "maxClusterActiveParallelism",
                            "dataType": {},
                            "nullable": true,
                            "metadata": {
                              "map": {}
                            }
                          },
                          {
                            "name": "minClusterActiveParallelism",
                            "dataType": {},
                            "nullable": true,
                            "metadata": {
                              "map": {}
                            }
                          },
                          {
                            "name": "maxSessionActiveParallelism",
                            "dataType": {},
                            "nullable": true,
                            "metadata": {
                              "map": {}
                            }
                          },
                          {
                            "name": "minSessionActiveParallelism",
                            "dataType": {},
                            "nullable": true,
                            "metadata": {
                              "map": {}
                            }
                          }
                        ],
                        "nullable": true,
                        "metadata": {
                          "map": {}
                        }
                      }
                    ],
                    "values": [
                      "1",
                      "200",
                      {
                        "schema": [
                          {
                            "name": "min",
                            "dataType": {},
                            "nullable": true,
                            "metadata": {
                              "map": {}
                            }
                          },
                          {
                            "name": "max",
                            "dataType": {},
                            "nullable": true,
                            "metadata": {
                              "map": {}
                            }
                          },
                          {
                            "name": "avg",
                            "dataType": {},
                            "nullable": false,
                            "metadata": {
                              "map": {}
                            }
                          },
                          {
                            "name": "totalFiles",
                            "dataType": {},
                            "nullable": false,
                            "metadata": {
                              "map": {}
                            }
                          },
                          {
                            "name": "totalSize",
                            "dataType": {},
                            "nullable": false,
                            "metadata": {
                              "map": {}
                            }
                          }
                        ],
                        "values": [
                          "127452",
                          "127452",
                          127452,
                          "1",
                          "127452"
                        ]
                      },
                      {
                        "schema": [
                          {
                            "name": "min",
                            "dataType": {},
                            "nullable": true,
                            "metadata": {
                              "map": {}
                            }
                          },
                          {
                            "name": "max",
                            "dataType": {},
                            "nullable": true,
                            "metadata": {
                              "map": {}
                            }
                          },
                          {
                            "name": "avg",
                            "dataType": {},
                            "nullable": false,
                            "metadata": {
                              "map": {}
                            }
                          },
                          {
                            "name": "totalFiles",
                            "dataType": {},
                            "nullable": false,
                            "metadata": {
                              "map": {}
                            }
                          },
                          {
                            "name": "totalSize",
                            "dataType": {},
                            "nullable": false,
                            "metadata": {
                              "map": {}
                            }
                          }
                        ],
                        "values": [
                          "4263",
                          "5287",
                          4871.63,
                          "200",
                          "974326"
                        ]
                      },
                      "1",
                      {
                        "schema": [
                          {
                            "name": "strategyName",
                            "dataType": {},
                            "nullable": true,
                            "metadata": {
                              "map": {}
                            }
                          },
                          {
                            "name": "inputCubeFiles",
                            "dataType": [
                              {
                                "name": "num",
                                "dataType": {},
                                "nullable": false,
                                "metadata": {
                                  "map": {}
                                }
                              },
                              {
                                "name": "size",
                                "dataType": {},
                                "nullable": false,
                                "metadata": {
                                  "map": {}
                                }
                              }
                            ],
                            "nullable": true,
                            "metadata": {
                              "map": {}
                            }
                          },
                          {
                            "name": "inputOtherFiles",
                            "dataType": [
                              {
                                "name": "num",
                                "dataType": {},
                                "nullable": false,
                                "metadata": {
                                  "map": {}
                                }
                              },
                              {
                                "name": "size",
                                "dataType": {},
                                "nullable": false,
                                "metadata": {
                                  "map": {}
                                }
                              }
                            ],
                            "nullable": true,
                            "metadata": {
                              "map": {}
                            }
                          },
                          {
                            "name": "inputNumCubes",
                            "dataType": {},
                            "nullable": false,
                            "metadata": {
                              "map": {}
                            }
                          },
                          {
                            "name": "mergedFiles",
                            "dataType": [
                              {
                                "name": "num",
                                "dataType": {},
                                "nullable": false,
                                "metadata": {
                                  "map": {}
                                }
                              },
                              {
                                "name": "size",
                                "dataType": {},
                                "nullable": false,
                                "metadata": {
                                  "map": {}
                                }
                              }
                            ],
                            "nullable": true,
                            "metadata": {
                              "map": {}
                            }
                          },
                          {
                            "name": "numOutputCubes",
                            "dataType": {},
                            "nullable": false,
                            "metadata": {
                              "map": {}
                            }
                          },
                          {
                            "name": "mergedNumCubes",
                            "dataType": {},
                            "nullable": true,
                            "metadata": {
                              "map": {}
                            }
                          }
                        ],
                        "values": [
                          "all",
                          {
                            "schema": [
                              {
                                "name": "num",
                                "dataType": {},
                                "nullable": false,
                                "metadata": {
                                  "map": {}
                                }
                              },
                              {
                                "name": "size",
                                "dataType": {},
                                "nullable": false,
                                "metadata": {
                                  "map": {}
                                }
                              }
                            ],
                            "values": [
                              "0",
                              "0"
                            ]
                          },
                          {
                            "schema": [
                              {
                                "name": "num",
                                "dataType": {},
                                "nullable": false,
                                "metadata": {
                                  "map": {}
                                }
                              },
                              {
                                "name": "size",
                                "dataType": {},
                                "nullable": false,
                                "metadata": {
                                  "map": {}
                                }
                              }
                            ],
                            "values": [
                              "200",
                              "974326"
                            ]
                          },
                          "0",
                          {
                            "schema": [
                              {
                                "name": "num",
                                "dataType": {},
                                "nullable": false,
                                "metadata": {
                                  "map": {}
                                }
                              },
                              {
                                "name": "size",
                                "dataType": {},
                                "nullable": false,
                                "metadata": {
                                  "map": {}
                                }
                              }
                            ],
                            "values": [
                              "200",
                              "974326"
                            ]
                          },
                          "1",
                          null
                        ]
                      },
                      "1",
                      "200",
                      "0",
                      false,
                      "0",
                      "0",
                      "1686769554331",
                      "0",
                      "32",
                      "0",
                      null
                    ]
                  }
                ]
              ]
            },
            "text/plain": "<Spark SQL result set with 1 rows and 2 fields>"
          },
          "metadata": {}
        }
      ],
      "execution_count": 2,
      "metadata": {
        "jupyter": {
          "source_hidden": false,
          "outputs_hidden": false
        },
        "nteract": {
          "transient": {
            "deleting": false
          }
        },
        "microsoft": {
          "language": "sparksql"
        },
        "collapsed": false
      }
    },
    {
      "cell_type": "code",
      "source": [
        "%%sql\r\n",
        "\r\n",
        "-- Should return data\r\n",
        "\r\n",
        "SELECT * FROM gold.productsales VERSION AS OF 1\r\n",
        "WHERE OrderDate >= '2023-05-01';\r\n"
      ],
      "outputs": [
        {
          "output_type": "display_data",
          "data": {
            "application/vnd.livy.statement-meta+json": {
              "spark_pool": "synasp1",
              "session_id": "1",
              "statement_id": 3,
              "state": "finished",
              "livy_statement_state": "available",
              "queued_time": "2023-06-14T19:06:05.2016612Z",
              "session_start_time": null,
              "execution_start_time": "2023-06-14T19:06:05.3336131Z",
              "execution_finish_time": "2023-06-14T19:06:08.2663367Z",
              "spark_jobs": null,
              "parent_msg_id": "f0473d46-fa53-457a-a611-354530d7e6b6"
            },
            "text/plain": "StatementMeta(synasp1, 1, 3, Finished, Available)"
          },
          "metadata": {}
        },
        {
          "output_type": "execute_result",
          "execution_count": 3,
          "data": {
            "application/vnd.synapse.sparksql-result+json": {
              "schema": {
                "type": "struct",
                "fields": [
                  {
                    "name": "ProductKey",
                    "type": "short",
                    "nullable": true,
                    "metadata": {}
                  },
                  {
                    "name": "ProductName",
                    "type": "string",
                    "nullable": true,
                    "metadata": {}
                  },
                  {
                    "name": "PredictionCategory",
                    "type": "string",
                    "nullable": true,
                    "metadata": {}
                  },
                  {
                    "name": "PredictionSubcategory",
                    "type": "string",
                    "nullable": true,
                    "metadata": {}
                  },
                  {
                    "name": "UnitPrice",
                    "type": "float",
                    "nullable": true,
                    "metadata": {}
                  },
                  {
                    "name": "OrderDate",
                    "type": "date",
                    "nullable": true,
                    "metadata": {}
                  },
                  {
                    "name": "OrderQuantityTotal",
                    "type": "long",
                    "nullable": true,
                    "metadata": {}
                  },
                  {
                    "name": "AmountSold",
                    "type": "float",
                    "nullable": true,
                    "metadata": {}
                  }
                ]
              },
              "data": [
                [
                  225,
                  "AWC Logo Cap",
                  "Clothing",
                  "Caps",
                  8.989999771118164,
                  "2023-05-03",
                  "1",
                  8.989999771118164
                ],
                [
                  486,
                  "All-Purpose Bike Stand",
                  "Accessories",
                  "Bike Stands",
                  159,
                  "2023-05-02",
                  "2",
                  318
                ],
                [
                  485,
                  "Fender Set - Mountain",
                  "Accessories",
                  "Fenders",
                  21.979999542236328,
                  "2023-05-04",
                  "1",
                  21.979999542236328
                ],
                [
                  360,
                  "Mountain-200 Black, 42",
                  "Bikes",
                  "Mountain Bikes",
                  2049.09814453125,
                  "2023-05-04",
                  "2",
                  4098.1962890625
                ],
                [
                  537,
                  "HL Mountain Tire",
                  "Accessories",
                  "Tires and Tubes",
                  35,
                  "2023-05-02",
                  "1",
                  35
                ],
                [
                  485,
                  "Fender Set - Mountain",
                  "Accessories",
                  "Fenders",
                  21.979999542236328,
                  "2023-05-03",
                  "1",
                  21.979999542236328
                ]
              ]
            },
            "text/plain": "<Spark SQL result set with 6 rows and 8 fields>"
          },
          "metadata": {}
        }
      ],
      "execution_count": 3,
      "metadata": {
        "jupyter": {
          "source_hidden": false,
          "outputs_hidden": false
        },
        "nteract": {
          "transient": {
            "deleting": false
          }
        },
        "microsoft": {
          "language": "sparksql"
        },
        "collapsed": false
      }
    },
    {
      "cell_type": "code",
      "source": [
        "%%sql\r\n",
        "\r\n",
        "-- Will create a RESTORE operation visible in the audit logs. Rerun the DESCRIBE HISTORY command after this script.\r\n",
        "\r\n",
        "RESTORE gold.productsales TO VERSION AS OF 0;\r\n"
      ],
      "outputs": [
        {
          "output_type": "display_data",
          "data": {
            "application/vnd.livy.statement-meta+json": {
              "spark_pool": "synasp1",
              "session_id": "1",
              "statement_id": 4,
              "state": "finished",
              "livy_statement_state": "available",
              "queued_time": "2023-06-14T19:06:34.1779121Z",
              "session_start_time": null,
              "execution_start_time": "2023-06-14T19:06:34.3212763Z",
              "execution_finish_time": "2023-06-14T19:06:41.3150545Z",
              "spark_jobs": null,
              "parent_msg_id": "38bf4847-d5b2-4c6c-b0e2-c560bc5ae8cc"
            },
            "text/plain": "StatementMeta(synasp1, 1, 4, Finished, Available)"
          },
          "metadata": {}
        },
        {
          "output_type": "execute_result",
          "execution_count": 4,
          "data": {
            "application/vnd.synapse.sparksql-result+json": {
              "schema": {
                "type": "struct",
                "fields": [
                  {
                    "name": "table_size_after_restore",
                    "type": "long",
                    "nullable": true,
                    "metadata": {}
                  },
                  {
                    "name": "num_of_files_after_restore",
                    "type": "long",
                    "nullable": true,
                    "metadata": {}
                  },
                  {
                    "name": "num_removed_files",
                    "type": "long",
                    "nullable": true,
                    "metadata": {}
                  },
                  {
                    "name": "num_restored_files",
                    "type": "long",
                    "nullable": true,
                    "metadata": {}
                  },
                  {
                    "name": "removed_files_size",
                    "type": "long",
                    "nullable": true,
                    "metadata": {}
                  },
                  {
                    "name": "restored_files_size",
                    "type": "long",
                    "nullable": true,
                    "metadata": {}
                  }
                ]
              },
              "data": [
                [
                  "191398",
                  "7",
                  "1",
                  "7",
                  "127452",
                  "191398"
                ]
              ]
            },
            "text/plain": "<Spark SQL result set with 1 rows and 6 fields>"
          },
          "metadata": {}
        }
      ],
      "execution_count": 4,
      "metadata": {
        "jupyter": {
          "source_hidden": false,
          "outputs_hidden": false
        },
        "nteract": {
          "transient": {
            "deleting": false
          }
        },
        "microsoft": {
          "language": "sparksql"
        },
        "collapsed": false
      }
    },
    {
      "cell_type": "code",
      "source": [
        "%%sql\r\n",
        "\r\n",
        "-- Change ABFSS URI to your own URI, find the name of your storage account and container located within your own storage account.\r\n",
        "-- Version 3 is the RESTORE operation while version 2 is the OPTIMIZE operation.\r\n",
        "\r\n",
        "DESCRIBE HISTORY 'abfss://dlssdcpocfs1@dlssdcpoc.dfs.core.windows.net/gold-container/ProductSales/';"
      ],
      "outputs": [],
      "execution_count": null,
      "metadata": {
        "jupyter": {
          "source_hidden": false,
          "outputs_hidden": false
        },
        "nteract": {
          "transient": {
            "deleting": false
          }
        },
        "microsoft": {
          "language": "sparksql"
        }
      }
    },
    {
      "cell_type": "code",
      "source": [
        "%%sql\r\n",
        "\r\n",
        "-- Should return no data\r\n",
        "\r\n",
        "SELECT * FROM gold.productsales VERSION AS OF 3\r\n",
        "WHERE OrderDate >= '2023-05-01';\r\n"
      ],
      "outputs": [
        {
          "output_type": "display_data",
          "data": {
            "application/vnd.livy.statement-meta+json": {
              "spark_pool": "synasp1",
              "session_id": "1",
              "statement_id": 7,
              "state": "finished",
              "livy_statement_state": "available",
              "queued_time": "2023-06-14T19:08:04.2790438Z",
              "session_start_time": null,
              "execution_start_time": "2023-06-14T19:08:04.4187385Z",
              "execution_finish_time": "2023-06-14T19:08:05.5728951Z",
              "spark_jobs": null,
              "parent_msg_id": "ed42da18-d8aa-4724-ad19-9a0aa5342e13"
            },
            "text/plain": "StatementMeta(synasp1, 1, 7, Finished, Available)"
          },
          "metadata": {}
        },
        {
          "output_type": "execute_result",
          "execution_count": 7,
          "data": {
            "application/vnd.synapse.sparksql-result+json": {
              "schema": {
                "type": "struct",
                "fields": [
                  {
                    "name": "ProductKey",
                    "type": "short",
                    "nullable": true,
                    "metadata": {}
                  },
                  {
                    "name": "ProductName",
                    "type": "string",
                    "nullable": true,
                    "metadata": {}
                  },
                  {
                    "name": "PredictionCategory",
                    "type": "string",
                    "nullable": true,
                    "metadata": {}
                  },
                  {
                    "name": "PredictionSubcategory",
                    "type": "string",
                    "nullable": true,
                    "metadata": {}
                  },
                  {
                    "name": "UnitPrice",
                    "type": "float",
                    "nullable": true,
                    "metadata": {}
                  },
                  {
                    "name": "OrderDate",
                    "type": "date",
                    "nullable": true,
                    "metadata": {}
                  },
                  {
                    "name": "OrderQuantityTotal",
                    "type": "long",
                    "nullable": true,
                    "metadata": {}
                  },
                  {
                    "name": "AmountSold",
                    "type": "float",
                    "nullable": true,
                    "metadata": {}
                  }
                ]
              },
              "data": []
            },
            "text/plain": "<Spark SQL result set with 0 rows and 8 fields>"
          },
          "metadata": {}
        }
      ],
      "execution_count": 7,
      "metadata": {
        "jupyter": {
          "source_hidden": false,
          "outputs_hidden": false
        },
        "nteract": {
          "transient": {
            "deleting": false
          }
        },
        "microsoft": {
          "language": "sparksql"
        },
        "collapsed": false
      }
    }
  ],
  "metadata": {
    "kernelspec": {
      "name": "synapse_pyspark",
      "display_name": "Synapse PySpark"
    },
    "language_info": {
      "name": "python"
    },
    "description": null,
    "save_output": true,
    "synapse_widget": {
      "version": "0.1",
      "state": {}
    }
  },
  "nbformat": 4,
  "nbformat_minor": 2
}