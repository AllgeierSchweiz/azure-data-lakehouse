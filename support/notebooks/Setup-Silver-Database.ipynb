{
  "cells": [
    {
      "cell_type": "code",
      "source": [
        "%%sql\r\n",
        "\r\n",
        "CREATE DATABASE IF NOT EXISTS silver;\r\n"
      ],
      "outputs": [],
      "execution_count": null,
      "metadata": {
        "microsoft": {
          "language": "sparksql"
        }
      }
    },
    {
      "cell_type": "code",
      "source": [
        "%%sql\r\n",
        "\r\n",
        "-- Change ABFSS URI to your own URI, find the name of your storage account and container located within your own storage account.\r\n",
        "\r\n",
        "CREATE TABLE IF NOT EXISTS silver.productsales\r\n",
        "USING DELTA\r\n",
        "LOCATION 'abfss://dlssdcpocfs1@dlssdcpoc.dfs.core.windows.net/silver-container/ProductSales/';\r\n"
      ],
      "outputs": [],
      "execution_count": null,
      "metadata": {
        "jupyter": {
          "source_hidden": false,
          "outputs_hidden": false
        },
        "nteract": {
          "transient": {
            "deleting": false
          }
        },
        "microsoft": {
          "language": "sparksql"
        }
      }
    },
    {
      "cell_type": "code",
      "source": [
        "%%sql\r\n",
        "\r\n",
        "-- Change ABFSS URI to your own URI, find the name of your storage account and container located within your own storage account.\r\n",
        "\r\n",
        "DESCRIBE HISTORY 'abfss://dlssdcpocfs1@dlssdcpoc.dfs.core.windows.net/silver-container/ProductSales/';\r\n"
      ],
      "outputs": [],
      "execution_count": null,
      "metadata": {
        "jupyter": {
          "source_hidden": false,
          "outputs_hidden": false
        },
        "nteract": {
          "transient": {
            "deleting": false
          }
        },
        "microsoft": {
          "language": "sparksql"
        }
      }
    },
    {
      "cell_type": "code",
      "source": [
        "%%sql\r\n",
        "\r\n",
        "-- Should return no data\r\n",
        "\r\n",
        "SELECT * FROM silver.productsales VERSION AS OF 0\r\n",
        "WHERE OrderDate >= '2023-05-01';\r\n"
      ],
      "outputs": [],
      "execution_count": null,
      "metadata": {
        "jupyter": {
          "source_hidden": false,
          "outputs_hidden": false
        },
        "nteract": {
          "transient": {
            "deleting": false
          }
        },
        "microsoft": {
          "language": "sparksql"
        }
      }
    },
    {
      "cell_type": "code",
      "source": [
        "%%sql\r\n",
        "\r\n",
        "-- Should return data\r\n",
        "\r\n",
        "SELECT * FROM silver.productsales VERSION AS OF 1\r\n",
        "WHERE OrderDate >= '2023-05-01';"
      ],
      "outputs": [],
      "execution_count": null,
      "metadata": {
        "jupyter": {
          "source_hidden": false,
          "outputs_hidden": false
        },
        "nteract": {
          "transient": {
            "deleting": false
          }
        },
        "microsoft": {
          "language": "sparksql"
        }
      }
    }
  ],
  "metadata": {
    "kernelspec": {
      "name": "synapse_pyspark",
      "display_name": "python"
    },
    "language_info": {
      "name": "python"
    },
    "description": null,
    "save_output": true,
    "synapse_widget": {
      "version": "0.1",
      "state": {}
    }
  },
  "nbformat": 4,
  "nbformat_minor": 2
}